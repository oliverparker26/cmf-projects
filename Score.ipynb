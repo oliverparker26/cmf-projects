{
 "cells": [
  {
   "cell_type": "code",
   "execution_count": 50,
   "id": "feb700ef",
   "metadata": {},
   "outputs": [],
   "source": [
    "import numpy as np\n",
    "import pandas as pd\n",
    "import warnings\n",
    "warnings.filterwarnings(\"ignore\")\n",
    "from matplotlib import pyplot as plt\n",
    "from sklearn.linear_model import LinearRegression\n",
    "from sklearn.model_selection import train_test_split \n",
    "from sklearn.neighbors import KNeighborsRegressor \n",
    "from sklearn.neighbors import KNeighborsClassifier\n",
    "from sklearn.metrics import classification_report\n",
    "from sklearn.metrics import confusion_matrix\n",
    "from sklearn.metrics import log_loss\n",
    "from sklearn.linear_model import LogisticRegression"
   ]
  },
  {
   "cell_type": "code",
   "execution_count": 51,
   "id": "cc4d0f7f",
   "metadata": {},
   "outputs": [],
   "source": [
    "x_train = pd.read_csv('Downloads\\cmf-2022-bank-scoring-case\\X_train.csv')\n",
    "test = pd.read_csv('Downloads\\cmf-2022-bank-scoring-case\\X_test.csv')\n",
    "y_sample = pd.read_csv('Downloads\\cmf-2022-bank-scoring-case\\y_test_sample.csv')\n",
    "y_train = pd.read_csv('Downloads\\cmf-2022-bank-scoring-case\\y_train.csv')"
   ]
  },
  {
   "cell_type": "code",
   "execution_count": 52,
   "id": "b5f97c25",
   "metadata": {},
   "outputs": [
    {
     "data": {
      "text/html": [
       "<div>\n",
       "<style scoped>\n",
       "    .dataframe tbody tr th:only-of-type {\n",
       "        vertical-align: middle;\n",
       "    }\n",
       "\n",
       "    .dataframe tbody tr th {\n",
       "        vertical-align: top;\n",
       "    }\n",
       "\n",
       "    .dataframe thead th {\n",
       "        text-align: right;\n",
       "    }\n",
       "</style>\n",
       "<table border=\"1\" class=\"dataframe\">\n",
       "  <thead>\n",
       "    <tr style=\"text-align: right;\">\n",
       "      <th></th>\n",
       "      <th>index</th>\n",
       "      <th>credit_card_utilization</th>\n",
       "      <th>age</th>\n",
       "      <th>overdue_30_59_days</th>\n",
       "      <th>debt_to_income</th>\n",
       "      <th>monthly_income</th>\n",
       "      <th>credits_loans</th>\n",
       "      <th>overdue__more_than_90_days</th>\n",
       "      <th>mortgage_loans</th>\n",
       "      <th>overdue_60_89_days</th>\n",
       "      <th>family_members</th>\n",
       "    </tr>\n",
       "  </thead>\n",
       "  <tbody>\n",
       "    <tr>\n",
       "      <th>0</th>\n",
       "      <td>143522</td>\n",
       "      <td>0.021069</td>\n",
       "      <td>60</td>\n",
       "      <td>0</td>\n",
       "      <td>0.184907</td>\n",
       "      <td>14403.715440</td>\n",
       "      <td>9</td>\n",
       "      <td>0</td>\n",
       "      <td>1</td>\n",
       "      <td>0</td>\n",
       "      <td>0.0</td>\n",
       "    </tr>\n",
       "    <tr>\n",
       "      <th>1</th>\n",
       "      <td>116747</td>\n",
       "      <td>0.009985</td>\n",
       "      <td>82</td>\n",
       "      <td>0</td>\n",
       "      <td>0.446264</td>\n",
       "      <td>6768.581963</td>\n",
       "      <td>6</td>\n",
       "      <td>0</td>\n",
       "      <td>3</td>\n",
       "      <td>0</td>\n",
       "      <td>0.0</td>\n",
       "    </tr>\n",
       "    <tr>\n",
       "      <th>2</th>\n",
       "      <td>66075</td>\n",
       "      <td>0.535187</td>\n",
       "      <td>43</td>\n",
       "      <td>1</td>\n",
       "      <td>0.406317</td>\n",
       "      <td>4686.080429</td>\n",
       "      <td>14</td>\n",
       "      <td>0</td>\n",
       "      <td>2</td>\n",
       "      <td>0</td>\n",
       "      <td>3.0</td>\n",
       "    </tr>\n",
       "    <tr>\n",
       "      <th>3</th>\n",
       "      <td>133292</td>\n",
       "      <td>0.051264</td>\n",
       "      <td>31</td>\n",
       "      <td>0</td>\n",
       "      <td>0.311893</td>\n",
       "      <td>3867.175176</td>\n",
       "      <td>8</td>\n",
       "      <td>0</td>\n",
       "      <td>0</td>\n",
       "      <td>0</td>\n",
       "      <td>1.0</td>\n",
       "    </tr>\n",
       "    <tr>\n",
       "      <th>4</th>\n",
       "      <td>83134</td>\n",
       "      <td>0.069525</td>\n",
       "      <td>45</td>\n",
       "      <td>0</td>\n",
       "      <td>0.294956</td>\n",
       "      <td>9869.273012</td>\n",
       "      <td>6</td>\n",
       "      <td>0</td>\n",
       "      <td>1</td>\n",
       "      <td>0</td>\n",
       "      <td>2.0</td>\n",
       "    </tr>\n",
       "    <tr>\n",
       "      <th>...</th>\n",
       "      <td>...</td>\n",
       "      <td>...</td>\n",
       "      <td>...</td>\n",
       "      <td>...</td>\n",
       "      <td>...</td>\n",
       "      <td>...</td>\n",
       "      <td>...</td>\n",
       "      <td>...</td>\n",
       "      <td>...</td>\n",
       "      <td>...</td>\n",
       "      <td>...</td>\n",
       "    </tr>\n",
       "    <tr>\n",
       "      <th>38871</th>\n",
       "      <td>44475</td>\n",
       "      <td>0.731740</td>\n",
       "      <td>39</td>\n",
       "      <td>0</td>\n",
       "      <td>0.251005</td>\n",
       "      <td>3474.894386</td>\n",
       "      <td>5</td>\n",
       "      <td>0</td>\n",
       "      <td>0</td>\n",
       "      <td>0</td>\n",
       "      <td>0.0</td>\n",
       "    </tr>\n",
       "    <tr>\n",
       "      <th>38872</th>\n",
       "      <td>103189</td>\n",
       "      <td>0.010959</td>\n",
       "      <td>70</td>\n",
       "      <td>0</td>\n",
       "      <td>0.152539</td>\n",
       "      <td>4170.426464</td>\n",
       "      <td>14</td>\n",
       "      <td>0</td>\n",
       "      <td>1</td>\n",
       "      <td>0</td>\n",
       "      <td>0.0</td>\n",
       "    </tr>\n",
       "    <tr>\n",
       "      <th>38873</th>\n",
       "      <td>48732</td>\n",
       "      <td>0.084612</td>\n",
       "      <td>52</td>\n",
       "      <td>0</td>\n",
       "      <td>5288.053772</td>\n",
       "      <td>NaN</td>\n",
       "      <td>15</td>\n",
       "      <td>0</td>\n",
       "      <td>2</td>\n",
       "      <td>0</td>\n",
       "      <td>0.0</td>\n",
       "    </tr>\n",
       "    <tr>\n",
       "      <th>38874</th>\n",
       "      <td>135410</td>\n",
       "      <td>0.741717</td>\n",
       "      <td>51</td>\n",
       "      <td>0</td>\n",
       "      <td>0.378356</td>\n",
       "      <td>5441.458787</td>\n",
       "      <td>9</td>\n",
       "      <td>0</td>\n",
       "      <td>2</td>\n",
       "      <td>0</td>\n",
       "      <td>0.0</td>\n",
       "    </tr>\n",
       "    <tr>\n",
       "      <th>38875</th>\n",
       "      <td>73457</td>\n",
       "      <td>0.014229</td>\n",
       "      <td>65</td>\n",
       "      <td>0</td>\n",
       "      <td>0.002321</td>\n",
       "      <td>199556.312925</td>\n",
       "      <td>3</td>\n",
       "      <td>0</td>\n",
       "      <td>1</td>\n",
       "      <td>0</td>\n",
       "      <td>0.0</td>\n",
       "    </tr>\n",
       "  </tbody>\n",
       "</table>\n",
       "<p>38876 rows × 11 columns</p>\n",
       "</div>"
      ],
      "text/plain": [
       "        index  credit_card_utilization  age  overdue_30_59_days  \\\n",
       "0      143522                 0.021069   60                   0   \n",
       "1      116747                 0.009985   82                   0   \n",
       "2       66075                 0.535187   43                   1   \n",
       "3      133292                 0.051264   31                   0   \n",
       "4       83134                 0.069525   45                   0   \n",
       "...       ...                      ...  ...                 ...   \n",
       "38871   44475                 0.731740   39                   0   \n",
       "38872  103189                 0.010959   70                   0   \n",
       "38873   48732                 0.084612   52                   0   \n",
       "38874  135410                 0.741717   51                   0   \n",
       "38875   73457                 0.014229   65                   0   \n",
       "\n",
       "       debt_to_income  monthly_income  credits_loans  \\\n",
       "0            0.184907    14403.715440              9   \n",
       "1            0.446264     6768.581963              6   \n",
       "2            0.406317     4686.080429             14   \n",
       "3            0.311893     3867.175176              8   \n",
       "4            0.294956     9869.273012              6   \n",
       "...               ...             ...            ...   \n",
       "38871        0.251005     3474.894386              5   \n",
       "38872        0.152539     4170.426464             14   \n",
       "38873     5288.053772             NaN             15   \n",
       "38874        0.378356     5441.458787              9   \n",
       "38875        0.002321   199556.312925              3   \n",
       "\n",
       "       overdue__more_than_90_days  mortgage_loans  overdue_60_89_days  \\\n",
       "0                               0               1                   0   \n",
       "1                               0               3                   0   \n",
       "2                               0               2                   0   \n",
       "3                               0               0                   0   \n",
       "4                               0               1                   0   \n",
       "...                           ...             ...                 ...   \n",
       "38871                           0               0                   0   \n",
       "38872                           0               1                   0   \n",
       "38873                           0               2                   0   \n",
       "38874                           0               2                   0   \n",
       "38875                           0               1                   0   \n",
       "\n",
       "       family_members  \n",
       "0                 0.0  \n",
       "1                 0.0  \n",
       "2                 3.0  \n",
       "3                 1.0  \n",
       "4                 2.0  \n",
       "...               ...  \n",
       "38871             0.0  \n",
       "38872             0.0  \n",
       "38873             0.0  \n",
       "38874             0.0  \n",
       "38875             0.0  \n",
       "\n",
       "[38876 rows x 11 columns]"
      ]
     },
     "execution_count": 52,
     "metadata": {},
     "output_type": "execute_result"
    }
   ],
   "source": [
    "test"
   ]
  },
  {
   "cell_type": "code",
   "execution_count": 53,
   "id": "7d8895a9",
   "metadata": {},
   "outputs": [],
   "source": [
    "indexes = test['index']"
   ]
  },
  {
   "cell_type": "code",
   "execution_count": 54,
   "id": "bdd3f288",
   "metadata": {},
   "outputs": [],
   "source": [
    "test.drop(['index'], axis = 1, inplace = True)\n"
   ]
  },
  {
   "cell_type": "code",
   "execution_count": 55,
   "id": "8f7c86b5",
   "metadata": {},
   "outputs": [],
   "source": [
    "x_train['target'] = y_train\n",
    "x_train.drop(x_train[x_train.age < 18].index, inplace = True)\n",
    "x_train.drop(x_train[x_train.monthly_income > 1000000].index, inplace = True)\n"
   ]
  },
  {
   "cell_type": "code",
   "execution_count": 56,
   "id": "cf8b3a92",
   "metadata": {},
   "outputs": [],
   "source": [
    "y = x_train.target\n",
    "x_train.drop(['target'], axis = 1, inplace = True)"
   ]
  },
  {
   "cell_type": "code",
   "execution_count": 57,
   "id": "7f72a0c7",
   "metadata": {},
   "outputs": [],
   "source": [
    "x_train['Test'] = False\n",
    "test['Test'] = True"
   ]
  },
  {
   "cell_type": "code",
   "execution_count": 58,
   "id": "4026dae2",
   "metadata": {},
   "outputs": [
    {
     "data": {
      "text/html": [
       "<div>\n",
       "<style scoped>\n",
       "    .dataframe tbody tr th:only-of-type {\n",
       "        vertical-align: middle;\n",
       "    }\n",
       "\n",
       "    .dataframe tbody tr th {\n",
       "        vertical-align: top;\n",
       "    }\n",
       "\n",
       "    .dataframe thead th {\n",
       "        text-align: right;\n",
       "    }\n",
       "</style>\n",
       "<table border=\"1\" class=\"dataframe\">\n",
       "  <thead>\n",
       "    <tr style=\"text-align: right;\">\n",
       "      <th></th>\n",
       "      <th>credit_card_utilization</th>\n",
       "      <th>age</th>\n",
       "      <th>overdue_30_59_days</th>\n",
       "      <th>debt_to_income</th>\n",
       "      <th>monthly_income</th>\n",
       "      <th>credits_loans</th>\n",
       "      <th>overdue__more_than_90_days</th>\n",
       "      <th>mortgage_loans</th>\n",
       "      <th>overdue_60_89_days</th>\n",
       "      <th>family_members</th>\n",
       "      <th>Test</th>\n",
       "    </tr>\n",
       "  </thead>\n",
       "  <tbody>\n",
       "    <tr>\n",
       "      <th>0</th>\n",
       "      <td>0.000000</td>\n",
       "      <td>56</td>\n",
       "      <td>0</td>\n",
       "      <td>0.504328</td>\n",
       "      <td>6823.894458</td>\n",
       "      <td>9</td>\n",
       "      <td>0</td>\n",
       "      <td>1</td>\n",
       "      <td>0</td>\n",
       "      <td>5.0</td>\n",
       "      <td>False</td>\n",
       "    </tr>\n",
       "    <tr>\n",
       "      <th>1</th>\n",
       "      <td>0.170659</td>\n",
       "      <td>45</td>\n",
       "      <td>1</td>\n",
       "      <td>2.405860</td>\n",
       "      <td>356.580765</td>\n",
       "      <td>5</td>\n",
       "      <td>0</td>\n",
       "      <td>0</td>\n",
       "      <td>0</td>\n",
       "      <td>0.0</td>\n",
       "      <td>False</td>\n",
       "    </tr>\n",
       "    <tr>\n",
       "      <th>2</th>\n",
       "      <td>0.342176</td>\n",
       "      <td>75</td>\n",
       "      <td>1</td>\n",
       "      <td>0.445066</td>\n",
       "      <td>20349.895825</td>\n",
       "      <td>9</td>\n",
       "      <td>0</td>\n",
       "      <td>3</td>\n",
       "      <td>0</td>\n",
       "      <td>0.0</td>\n",
       "      <td>False</td>\n",
       "    </tr>\n",
       "    <tr>\n",
       "      <th>3</th>\n",
       "      <td>0.046219</td>\n",
       "      <td>50</td>\n",
       "      <td>0</td>\n",
       "      <td>0.814508</td>\n",
       "      <td>2894.368968</td>\n",
       "      <td>12</td>\n",
       "      <td>0</td>\n",
       "      <td>1</td>\n",
       "      <td>0</td>\n",
       "      <td>3.0</td>\n",
       "      <td>False</td>\n",
       "    </tr>\n",
       "    <tr>\n",
       "      <th>4</th>\n",
       "      <td>0.679556</td>\n",
       "      <td>58</td>\n",
       "      <td>0</td>\n",
       "      <td>0.390311</td>\n",
       "      <td>24833.227614</td>\n",
       "      <td>15</td>\n",
       "      <td>0</td>\n",
       "      <td>4</td>\n",
       "      <td>0</td>\n",
       "      <td>2.0</td>\n",
       "      <td>False</td>\n",
       "    </tr>\n",
       "    <tr>\n",
       "      <th>...</th>\n",
       "      <td>...</td>\n",
       "      <td>...</td>\n",
       "      <td>...</td>\n",
       "      <td>...</td>\n",
       "      <td>...</td>\n",
       "      <td>...</td>\n",
       "      <td>...</td>\n",
       "      <td>...</td>\n",
       "      <td>...</td>\n",
       "      <td>...</td>\n",
       "      <td>...</td>\n",
       "    </tr>\n",
       "    <tr>\n",
       "      <th>38871</th>\n",
       "      <td>0.731740</td>\n",
       "      <td>39</td>\n",
       "      <td>0</td>\n",
       "      <td>0.251005</td>\n",
       "      <td>3474.894386</td>\n",
       "      <td>5</td>\n",
       "      <td>0</td>\n",
       "      <td>0</td>\n",
       "      <td>0</td>\n",
       "      <td>0.0</td>\n",
       "      <td>True</td>\n",
       "    </tr>\n",
       "    <tr>\n",
       "      <th>38872</th>\n",
       "      <td>0.010959</td>\n",
       "      <td>70</td>\n",
       "      <td>0</td>\n",
       "      <td>0.152539</td>\n",
       "      <td>4170.426464</td>\n",
       "      <td>14</td>\n",
       "      <td>0</td>\n",
       "      <td>1</td>\n",
       "      <td>0</td>\n",
       "      <td>0.0</td>\n",
       "      <td>True</td>\n",
       "    </tr>\n",
       "    <tr>\n",
       "      <th>38873</th>\n",
       "      <td>0.084612</td>\n",
       "      <td>52</td>\n",
       "      <td>0</td>\n",
       "      <td>5288.053772</td>\n",
       "      <td>NaN</td>\n",
       "      <td>15</td>\n",
       "      <td>0</td>\n",
       "      <td>2</td>\n",
       "      <td>0</td>\n",
       "      <td>0.0</td>\n",
       "      <td>True</td>\n",
       "    </tr>\n",
       "    <tr>\n",
       "      <th>38874</th>\n",
       "      <td>0.741717</td>\n",
       "      <td>51</td>\n",
       "      <td>0</td>\n",
       "      <td>0.378356</td>\n",
       "      <td>5441.458787</td>\n",
       "      <td>9</td>\n",
       "      <td>0</td>\n",
       "      <td>2</td>\n",
       "      <td>0</td>\n",
       "      <td>0.0</td>\n",
       "      <td>True</td>\n",
       "    </tr>\n",
       "    <tr>\n",
       "      <th>38875</th>\n",
       "      <td>0.014229</td>\n",
       "      <td>65</td>\n",
       "      <td>0</td>\n",
       "      <td>0.002321</td>\n",
       "      <td>199556.312925</td>\n",
       "      <td>3</td>\n",
       "      <td>0</td>\n",
       "      <td>1</td>\n",
       "      <td>0</td>\n",
       "      <td>0.0</td>\n",
       "      <td>True</td>\n",
       "    </tr>\n",
       "  </tbody>\n",
       "</table>\n",
       "<p>143982 rows × 11 columns</p>\n",
       "</div>"
      ],
      "text/plain": [
       "       credit_card_utilization  age  overdue_30_59_days  debt_to_income  \\\n",
       "0                     0.000000   56                   0        0.504328   \n",
       "1                     0.170659   45                   1        2.405860   \n",
       "2                     0.342176   75                   1        0.445066   \n",
       "3                     0.046219   50                   0        0.814508   \n",
       "4                     0.679556   58                   0        0.390311   \n",
       "...                        ...  ...                 ...             ...   \n",
       "38871                 0.731740   39                   0        0.251005   \n",
       "38872                 0.010959   70                   0        0.152539   \n",
       "38873                 0.084612   52                   0     5288.053772   \n",
       "38874                 0.741717   51                   0        0.378356   \n",
       "38875                 0.014229   65                   0        0.002321   \n",
       "\n",
       "       monthly_income  credits_loans  overdue__more_than_90_days  \\\n",
       "0         6823.894458              9                           0   \n",
       "1          356.580765              5                           0   \n",
       "2        20349.895825              9                           0   \n",
       "3         2894.368968             12                           0   \n",
       "4        24833.227614             15                           0   \n",
       "...               ...            ...                         ...   \n",
       "38871     3474.894386              5                           0   \n",
       "38872     4170.426464             14                           0   \n",
       "38873             NaN             15                           0   \n",
       "38874     5441.458787              9                           0   \n",
       "38875   199556.312925              3                           0   \n",
       "\n",
       "       mortgage_loans  overdue_60_89_days  family_members   Test  \n",
       "0                   1                   0             5.0  False  \n",
       "1                   0                   0             0.0  False  \n",
       "2                   3                   0             0.0  False  \n",
       "3                   1                   0             3.0  False  \n",
       "4                   4                   0             2.0  False  \n",
       "...               ...                 ...             ...    ...  \n",
       "38871               0                   0             0.0   True  \n",
       "38872               1                   0             0.0   True  \n",
       "38873               2                   0             0.0   True  \n",
       "38874               2                   0             0.0   True  \n",
       "38875               1                   0             0.0   True  \n",
       "\n",
       "[143982 rows x 11 columns]"
      ]
     },
     "execution_count": 58,
     "metadata": {},
     "output_type": "execute_result"
    }
   ],
   "source": [
    "data = pd.concat([x_train, test], axis = 0)\n",
    "data"
   ]
  },
  {
   "cell_type": "code",
   "execution_count": 59,
   "id": "1ae41011",
   "metadata": {},
   "outputs": [
    {
     "name": "stdout",
     "output_type": "stream",
     "text": [
      "<class 'pandas.core.frame.DataFrame'>\n",
      "Int64Index: 143982 entries, 0 to 38875\n",
      "Data columns (total 11 columns):\n",
      " #   Column                      Non-Null Count   Dtype  \n",
      "---  ------                      --------------   -----  \n",
      " 0   credit_card_utilization     143982 non-null  float64\n",
      " 1   age                         143982 non-null  int64  \n",
      " 2   overdue_30_59_days          143982 non-null  int64  \n",
      " 3   debt_to_income              143982 non-null  float64\n",
      " 4   monthly_income              115444 non-null  float64\n",
      " 5   credits_loans               143982 non-null  int64  \n",
      " 6   overdue__more_than_90_days  143982 non-null  int64  \n",
      " 7   mortgage_loans              143982 non-null  int64  \n",
      " 8   overdue_60_89_days          143982 non-null  int64  \n",
      " 9   family_members              140222 non-null  float64\n",
      " 10  Test                        143982 non-null  bool   \n",
      "dtypes: bool(1), float64(4), int64(6)\n",
      "memory usage: 12.2 MB\n"
     ]
    }
   ],
   "source": [
    "data.info()"
   ]
  },
  {
   "cell_type": "code",
   "execution_count": 60,
   "id": "83e5f3c5",
   "metadata": {},
   "outputs": [],
   "source": [
    "data.monthly_income = data.monthly_income.fillna(data.monthly_income.mean())\n",
    "data.family_members = data.family_members.fillna(data.family_members.mean())"
   ]
  },
  {
   "cell_type": "code",
   "execution_count": 61,
   "id": "c692969e",
   "metadata": {},
   "outputs": [],
   "source": [
    "train = data[data.Test == 0].reset_index(drop = True)\n",
    "test = data[data.Test == 1].reset_index(drop = True)"
   ]
  },
  {
   "cell_type": "code",
   "execution_count": 62,
   "id": "b68dbe24",
   "metadata": {},
   "outputs": [],
   "source": [
    "train.drop(['Test'], axis = 1, inplace = True)\n",
    "test.drop(['Test'], axis = 1, inplace = True)"
   ]
  },
  {
   "cell_type": "code",
   "execution_count": 63,
   "id": "185279c5",
   "metadata": {},
   "outputs": [],
   "source": [
    "x = train.copy()\n",
    "#y = y_train"
   ]
  },
  {
   "cell_type": "code",
   "execution_count": 64,
   "id": "88f378dc",
   "metadata": {},
   "outputs": [],
   "source": [
    "from sklearn.preprocessing import StandardScaler\n",
    "scaler = StandardScaler()"
   ]
  },
  {
   "cell_type": "code",
   "execution_count": 65,
   "id": "32c79c9b",
   "metadata": {},
   "outputs": [
    {
     "data": {
      "text/plain": [
       "StandardScaler()"
      ]
     },
     "execution_count": 65,
     "metadata": {},
     "output_type": "execute_result"
    }
   ],
   "source": [
    "scaler.fit(x)"
   ]
  },
  {
   "cell_type": "code",
   "execution_count": 66,
   "id": "7e5ff4d3",
   "metadata": {},
   "outputs": [],
   "source": [
    "scaled_features = scaler.transform(x)"
   ]
  },
  {
   "cell_type": "code",
   "execution_count": 67,
   "id": "5e766def",
   "metadata": {},
   "outputs": [],
   "source": [
    "scaled_data = pd.DataFrame(scaled_features, columns = x.columns)\n"
   ]
  },
  {
   "cell_type": "code",
   "execution_count": 68,
   "id": "fca08893",
   "metadata": {},
   "outputs": [],
   "source": [
    "x = scaled_data"
   ]
  },
  {
   "cell_type": "code",
   "execution_count": 69,
   "id": "8ae2fbb6",
   "metadata": {},
   "outputs": [],
   "source": [
    "test = scaler.transform(test)"
   ]
  },
  {
   "cell_type": "code",
   "execution_count": 70,
   "id": "8303d297",
   "metadata": {},
   "outputs": [],
   "source": [
    "x_training_data, x_test_data, y_training_data, y_test_data = train_test_split(x, y, test_size = 0.25)"
   ]
  },
  {
   "cell_type": "code",
   "execution_count": 71,
   "id": "d971f287",
   "metadata": {},
   "outputs": [],
   "source": [
    "model = KNeighborsClassifier(n_neighbors = 4)"
   ]
  },
  {
   "cell_type": "code",
   "execution_count": 72,
   "id": "b8e02b38",
   "metadata": {},
   "outputs": [
    {
     "data": {
      "text/plain": [
       "KNeighborsClassifier(n_neighbors=4)"
      ]
     },
     "execution_count": 72,
     "metadata": {},
     "output_type": "execute_result"
    }
   ],
   "source": [
    "model.fit(x_training_data, y_training_data)"
   ]
  },
  {
   "cell_type": "code",
   "execution_count": 73,
   "id": "c61a2414",
   "metadata": {},
   "outputs": [],
   "source": [
    "predictions = model.predict(x_test_data)"
   ]
  },
  {
   "cell_type": "code",
   "execution_count": 74,
   "id": "57263334",
   "metadata": {},
   "outputs": [
    {
     "name": "stdout",
     "output_type": "stream",
     "text": [
      "              precision    recall  f1-score   support\n",
      "\n",
      "           0       0.94      1.00      0.97     24552\n",
      "           1       0.53      0.07      0.13      1725\n",
      "\n",
      "    accuracy                           0.93     26277\n",
      "   macro avg       0.73      0.53      0.55     26277\n",
      "weighted avg       0.91      0.93      0.91     26277\n",
      "\n"
     ]
    }
   ],
   "source": [
    "\n",
    "print(classification_report(y_test_data, predictions))"
   ]
  },
  {
   "cell_type": "code",
   "execution_count": 75,
   "id": "1e7e180e",
   "metadata": {},
   "outputs": [],
   "source": [
    "predictions = model.predict_proba(test)\n"
   ]
  },
  {
   "cell_type": "code",
   "execution_count": 76,
   "id": "3b1d09c7",
   "metadata": {},
   "outputs": [
    {
     "data": {
      "text/html": [
       "<div>\n",
       "<style scoped>\n",
       "    .dataframe tbody tr th:only-of-type {\n",
       "        vertical-align: middle;\n",
       "    }\n",
       "\n",
       "    .dataframe tbody tr th {\n",
       "        vertical-align: top;\n",
       "    }\n",
       "\n",
       "    .dataframe thead th {\n",
       "        text-align: right;\n",
       "    }\n",
       "</style>\n",
       "<table border=\"1\" class=\"dataframe\">\n",
       "  <thead>\n",
       "    <tr style=\"text-align: right;\">\n",
       "      <th></th>\n",
       "      <th>index</th>\n",
       "      <th>target</th>\n",
       "    </tr>\n",
       "  </thead>\n",
       "  <tbody>\n",
       "    <tr>\n",
       "      <th>0</th>\n",
       "      <td>143522</td>\n",
       "      <td>0.00</td>\n",
       "    </tr>\n",
       "    <tr>\n",
       "      <th>1</th>\n",
       "      <td>116747</td>\n",
       "      <td>0.00</td>\n",
       "    </tr>\n",
       "    <tr>\n",
       "      <th>2</th>\n",
       "      <td>66075</td>\n",
       "      <td>0.00</td>\n",
       "    </tr>\n",
       "    <tr>\n",
       "      <th>3</th>\n",
       "      <td>133292</td>\n",
       "      <td>0.25</td>\n",
       "    </tr>\n",
       "    <tr>\n",
       "      <th>4</th>\n",
       "      <td>83134</td>\n",
       "      <td>0.00</td>\n",
       "    </tr>\n",
       "    <tr>\n",
       "      <th>...</th>\n",
       "      <td>...</td>\n",
       "      <td>...</td>\n",
       "    </tr>\n",
       "    <tr>\n",
       "      <th>38871</th>\n",
       "      <td>44475</td>\n",
       "      <td>0.00</td>\n",
       "    </tr>\n",
       "    <tr>\n",
       "      <th>38872</th>\n",
       "      <td>103189</td>\n",
       "      <td>0.00</td>\n",
       "    </tr>\n",
       "    <tr>\n",
       "      <th>38873</th>\n",
       "      <td>48732</td>\n",
       "      <td>0.00</td>\n",
       "    </tr>\n",
       "    <tr>\n",
       "      <th>38874</th>\n",
       "      <td>135410</td>\n",
       "      <td>0.00</td>\n",
       "    </tr>\n",
       "    <tr>\n",
       "      <th>38875</th>\n",
       "      <td>73457</td>\n",
       "      <td>0.00</td>\n",
       "    </tr>\n",
       "  </tbody>\n",
       "</table>\n",
       "<p>38876 rows × 2 columns</p>\n",
       "</div>"
      ],
      "text/plain": [
       "        index  target\n",
       "0      143522    0.00\n",
       "1      116747    0.00\n",
       "2       66075    0.00\n",
       "3      133292    0.25\n",
       "4       83134    0.00\n",
       "...       ...     ...\n",
       "38871   44475    0.00\n",
       "38872  103189    0.00\n",
       "38873   48732    0.00\n",
       "38874  135410    0.00\n",
       "38875   73457    0.00\n",
       "\n",
       "[38876 rows x 2 columns]"
      ]
     },
     "execution_count": 76,
     "metadata": {},
     "output_type": "execute_result"
    }
   ],
   "source": [
    "answers = pd.DataFrame()\n",
    "answers['index'] = indexes\n",
    "answers['target'] = predictions[:,1]\n",
    "answers"
   ]
  },
  {
   "cell_type": "code",
   "execution_count": 77,
   "id": "bd7596fa",
   "metadata": {},
   "outputs": [],
   "source": [
    "#linear"
   ]
  },
  {
   "cell_type": "code",
   "execution_count": 78,
   "id": "4a7f7fd8",
   "metadata": {},
   "outputs": [],
   "source": [
    "X_train, X_test, y_train, y_test = train_test_split(x, y, test_size=0.2, random_state=0)"
   ]
  },
  {
   "cell_type": "code",
   "execution_count": 79,
   "id": "7ed6818a",
   "metadata": {},
   "outputs": [],
   "source": [
    "mod = LinearRegression()"
   ]
  },
  {
   "cell_type": "code",
   "execution_count": 80,
   "id": "dae5aab1",
   "metadata": {},
   "outputs": [
    {
     "data": {
      "text/plain": [
       "LinearRegression()"
      ]
     },
     "execution_count": 80,
     "metadata": {},
     "output_type": "execute_result"
    }
   ],
   "source": [
    "mod.fit(X_train, y_train)"
   ]
  },
  {
   "cell_type": "code",
   "execution_count": 81,
   "id": "f7042b3e",
   "metadata": {},
   "outputs": [
    {
     "data": {
      "text/plain": [
       "array([0, 0, 0, ..., 0, 0, 0], dtype=int64)"
      ]
     },
     "execution_count": 81,
     "metadata": {},
     "output_type": "execute_result"
    }
   ],
   "source": [
    "y_pre=model.predict(X_test)\n",
    "y_pre"
   ]
  },
  {
   "cell_type": "code",
   "execution_count": 82,
   "id": "2f1261aa",
   "metadata": {},
   "outputs": [
    {
     "ename": "NameError",
     "evalue": "name 'mean_absolute_error' is not defined",
     "output_type": "error",
     "traceback": [
      "\u001b[1;31m---------------------------------------------------------------------------\u001b[0m",
      "\u001b[1;31mNameError\u001b[0m                                 Traceback (most recent call last)",
      "\u001b[1;32m~\\AppData\\Local\\Temp/ipykernel_17416/2652043082.py\u001b[0m in \u001b[0;36m<module>\u001b[1;34m\u001b[0m\n\u001b[1;32m----> 1\u001b[1;33m \u001b[0mmean_absolute_error\u001b[0m\u001b[1;33m(\u001b[0m\u001b[0my_test\u001b[0m\u001b[1;33m,\u001b[0m \u001b[0my_pre\u001b[0m\u001b[1;33m)\u001b[0m\u001b[1;33m\u001b[0m\u001b[1;33m\u001b[0m\u001b[0m\n\u001b[0m",
      "\u001b[1;31mNameError\u001b[0m: name 'mean_absolute_error' is not defined"
     ]
    }
   ],
   "source": [
    "mean_absolute_error(y_test, y_pre)"
   ]
  },
  {
   "cell_type": "code",
   "execution_count": null,
   "id": "b9b3bd60",
   "metadata": {},
   "outputs": [],
   "source": [
    "y_pre=model.predict_proba(test)"
   ]
  },
  {
   "cell_type": "code",
   "execution_count": null,
   "id": "20daaade",
   "metadata": {},
   "outputs": [],
   "source": [
    "answers_l = pd.DataFrame()\n",
    "answers_l['index'] = indexes\n",
    "answers_l['target'] = y_pre[:,1]\n",
    "answers_l"
   ]
  },
  {
   "cell_type": "code",
   "execution_count": null,
   "id": "a1f83e00",
   "metadata": {},
   "outputs": [],
   "source": [
    "#random forest"
   ]
  },
  {
   "cell_type": "code",
   "execution_count": null,
   "id": "6ee244f5",
   "metadata": {},
   "outputs": [],
   "source": [
    "ss = StandardScaler()\n",
    "X_train_scaled = ss.fit_transform(X_train)\n",
    "X_test_scaled = ss.transform(X_test)\n",
    "y_train = np.array(y_train)"
   ]
  },
  {
   "cell_type": "code",
   "execution_count": null,
   "id": "38c8c1ab",
   "metadata": {},
   "outputs": [],
   "source": [
    "from sklearn.ensemble import RandomForestClassifier\n",
    "from sklearn.metrics import recall_score\n",
    "rfc = RandomForestClassifier()\n",
    "rfc.fit(X_train_scaled, y_train)\n",
    "display(rfc.score(X_train_scaled, y_train))"
   ]
  },
  {
   "cell_type": "code",
   "execution_count": null,
   "id": "84e44257",
   "metadata": {},
   "outputs": [],
   "source": [
    "preds = rfc.predict(test)"
   ]
  },
  {
   "cell_type": "code",
   "execution_count": null,
   "id": "1f9df2fb",
   "metadata": {},
   "outputs": [],
   "source": [
    "answers = pd.DataFrame()\n",
    "answers['index'] = indexes\n",
    "answers['target'] = preds\n",
    "answers"
   ]
  },
  {
   "cell_type": "code",
   "execution_count": null,
   "id": "ee46543c",
   "metadata": {},
   "outputs": [],
   "source": [
    "answers.to_csv('Downloads/cmf-2022-bank-scoring-case/ran.csv', index = False)"
   ]
  },
  {
   "cell_type": "code",
   "execution_count": null,
   "id": "53ed4e7d",
   "metadata": {},
   "outputs": [],
   "source": []
  }
 ],
 "metadata": {
  "kernelspec": {
   "display_name": "Python 3 (ipykernel)",
   "language": "python",
   "name": "python3"
  },
  "language_info": {
   "codemirror_mode": {
    "name": "ipython",
    "version": 3
   },
   "file_extension": ".py",
   "mimetype": "text/x-python",
   "name": "python",
   "nbconvert_exporter": "python",
   "pygments_lexer": "ipython3",
   "version": "3.9.7"
  }
 },
 "nbformat": 4,
 "nbformat_minor": 5
}
