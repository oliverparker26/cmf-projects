{
 "cells": [
  {
   "cell_type": "code",
   "execution_count": 1,
   "id": "96c582d0",
   "metadata": {},
   "outputs": [],
   "source": [
    "import numpy as np\n",
    "import pandas as pd\n",
    "import warnings\n",
    "warnings.filterwarnings(\"ignore\")\n",
    "from matplotlib import pyplot as plt\n",
    "from sklearn.model_selection import train_test_split\n",
    "from sklearn import tree\n",
    "\n",
    "from sklearn.metrics import classification_report\n",
    "from sklearn.metrics import confusion_matrix\n",
    "from sklearn.metrics import accuracy_score"
   ]
  },
  {
   "cell_type": "code",
   "execution_count": 2,
   "id": "fca378fb",
   "metadata": {},
   "outputs": [],
   "source": [
    "x_train = pd.read_csv('Downloads\\cmf-2022-bank-scoring-case\\X_train.csv')\n",
    "x_test = pd.read_csv('Downloads\\cmf-2022-bank-scoring-case\\X_test.csv')\n",
    "y_sample = pd.read_csv('Downloads\\cmf-2022-bank-scoring-case\\y_test_sample.csv')\n",
    "y_train = pd.read_csv('Downloads\\cmf-2022-bank-scoring-case\\y_train.csv')"
   ]
  },
  {
   "cell_type": "code",
   "execution_count": 3,
   "id": "1ae5e083",
   "metadata": {},
   "outputs": [],
   "source": [
    "indexes_test = x_test['index']\n",
    "x_test.drop(['index'], axis = 1, inplace = True)"
   ]
  },
  {
   "cell_type": "code",
   "execution_count": 4,
   "id": "6fc6d15a",
   "metadata": {},
   "outputs": [],
   "source": [
    "x_train['target'] = y_train"
   ]
  },
  {
   "cell_type": "code",
   "execution_count": 17,
   "id": "549a3039",
   "metadata": {},
   "outputs": [],
   "source": [
    "x_train['Test'] = False\n",
    "x_test['Test'] = True"
   ]
  },
  {
   "cell_type": "code",
   "execution_count": 18,
   "id": "5779f7a9",
   "metadata": {},
   "outputs": [],
   "source": [
    "data = pd.concat([x_train, x_test])\n"
   ]
  },
  {
   "cell_type": "code",
   "execution_count": 19,
   "id": "dabbd123",
   "metadata": {},
   "outputs": [],
   "source": [
    "data.drop(data[data.age < 18].index, inplace = True)\n",
    "data.drop(data[data.monthly_income > 1000000].index, inplace = True)"
   ]
  },
  {
   "cell_type": "code",
   "execution_count": 20,
   "id": "f8d8bf0c",
   "metadata": {},
   "outputs": [
    {
     "ename": "AttributeError",
     "evalue": "'DataFrame' object has no attribute 'target'",
     "output_type": "error",
     "traceback": [
      "\u001b[1;31m---------------------------------------------------------------------------\u001b[0m",
      "\u001b[1;31mAttributeError\u001b[0m                            Traceback (most recent call last)",
      "\u001b[1;32m~\\AppData\\Local\\Temp/ipykernel_4464/2497780368.py\u001b[0m in \u001b[0;36m<module>\u001b[1;34m\u001b[0m\n\u001b[1;32m----> 1\u001b[1;33m \u001b[0my\u001b[0m \u001b[1;33m=\u001b[0m \u001b[0mx_train\u001b[0m\u001b[1;33m.\u001b[0m\u001b[0mtarget\u001b[0m\u001b[1;33m\u001b[0m\u001b[1;33m\u001b[0m\u001b[0m\n\u001b[0m\u001b[0;32m      2\u001b[0m \u001b[0mx_train\u001b[0m\u001b[1;33m.\u001b[0m\u001b[0mdrop\u001b[0m\u001b[1;33m(\u001b[0m\u001b[1;33m[\u001b[0m\u001b[1;34m'target'\u001b[0m\u001b[1;33m]\u001b[0m\u001b[1;33m,\u001b[0m \u001b[0maxis\u001b[0m \u001b[1;33m=\u001b[0m \u001b[1;36m1\u001b[0m\u001b[1;33m,\u001b[0m \u001b[0minplace\u001b[0m \u001b[1;33m=\u001b[0m \u001b[1;32mTrue\u001b[0m\u001b[1;33m)\u001b[0m\u001b[1;33m\u001b[0m\u001b[1;33m\u001b[0m\u001b[0m\n",
      "\u001b[1;32m~\\anaconda3\\lib\\site-packages\\pandas\\core\\generic.py\u001b[0m in \u001b[0;36m__getattr__\u001b[1;34m(self, name)\u001b[0m\n\u001b[0;32m   5485\u001b[0m         ):\n\u001b[0;32m   5486\u001b[0m             \u001b[1;32mreturn\u001b[0m \u001b[0mself\u001b[0m\u001b[1;33m[\u001b[0m\u001b[0mname\u001b[0m\u001b[1;33m]\u001b[0m\u001b[1;33m\u001b[0m\u001b[1;33m\u001b[0m\u001b[0m\n\u001b[1;32m-> 5487\u001b[1;33m         \u001b[1;32mreturn\u001b[0m \u001b[0mobject\u001b[0m\u001b[1;33m.\u001b[0m\u001b[0m__getattribute__\u001b[0m\u001b[1;33m(\u001b[0m\u001b[0mself\u001b[0m\u001b[1;33m,\u001b[0m \u001b[0mname\u001b[0m\u001b[1;33m)\u001b[0m\u001b[1;33m\u001b[0m\u001b[1;33m\u001b[0m\u001b[0m\n\u001b[0m\u001b[0;32m   5488\u001b[0m \u001b[1;33m\u001b[0m\u001b[0m\n\u001b[0;32m   5489\u001b[0m     \u001b[1;32mdef\u001b[0m \u001b[0m__setattr__\u001b[0m\u001b[1;33m(\u001b[0m\u001b[0mself\u001b[0m\u001b[1;33m,\u001b[0m \u001b[0mname\u001b[0m\u001b[1;33m:\u001b[0m \u001b[0mstr\u001b[0m\u001b[1;33m,\u001b[0m \u001b[0mvalue\u001b[0m\u001b[1;33m)\u001b[0m \u001b[1;33m->\u001b[0m \u001b[1;32mNone\u001b[0m\u001b[1;33m:\u001b[0m\u001b[1;33m\u001b[0m\u001b[1;33m\u001b[0m\u001b[0m\n",
      "\u001b[1;31mAttributeError\u001b[0m: 'DataFrame' object has no attribute 'target'"
     ]
    }
   ],
   "source": [
    "y = x_train.target\n",
    "x_train.drop(['target'], axis = 1, inplace = True)"
   ]
  },
  {
   "cell_type": "code",
   "execution_count": 21,
   "id": "419d87ea",
   "metadata": {},
   "outputs": [
    {
     "data": {
      "image/png": "[encoded data removed]",
      "text/plain": [
       "<Figure size 432x288 with 1 Axes>"
      ]
     },
     "metadata": {
      "needs_background": "light"
     },
     "output_type": "display_data"
    }
   ],
   "source": [
    "data.groupby('age')['monthly_income'].mean().plot();"
   ]
  },
  {
   "cell_type": "code",
   "execution_count": 10,
   "id": "e0c4c366",
   "metadata": {},
   "outputs": [
    {
     "name": "stdout",
     "output_type": "stream",
     "text": [
      "<class 'pandas.core.frame.DataFrame'>\n",
      "Int64Index: 143976 entries, 0 to 38875\n",
      "Data columns (total 11 columns):\n",
      " #   Column                      Non-Null Count   Dtype  \n",
      "---  ------                      --------------   -----  \n",
      " 0   credit_card_utilization     143976 non-null  float64\n",
      " 1   age                         143976 non-null  int64  \n",
      " 2   overdue_30_59_days          143976 non-null  int64  \n",
      " 3   debt_to_income              143976 non-null  float64\n",
      " 4   monthly_income              115438 non-null  float64\n",
      " 5   credits_loans               143976 non-null  int64  \n",
      " 6   overdue__more_than_90_days  143976 non-null  int64  \n",
      " 7   mortgage_loans              143976 non-null  int64  \n",
      " 8   overdue_60_89_days          143976 non-null  int64  \n",
      " 9   family_members              140216 non-null  float64\n",
      " 10  target                      105104 non-null  float64\n",
      "dtypes: float64(5), int64(6)\n",
      "memory usage: 13.2 MB\n"
     ]
    }
   ],
   "source": [
    "data.info()"
   ]
  },
  {
   "cell_type": "code",
   "execution_count": 11,
   "id": "84c223ac",
   "metadata": {},
   "outputs": [],
   "source": [
    "data1 = data[data.age > 67]\n",
    "data2 = data[(data.age <= 67) & (data.age > 40)]\n",
    "data3 = data[(data.age <= 40)]\n",
    "data1.monthly_income = data1.monthly_income.fillna(data1.monthly_income.mean())\n",
    "data2.monthly_income = data2.monthly_income.fillna(data2.monthly_income.mean())\n",
    "data3.monthly_income = data3.monthly_income.fillna(data3.monthly_income.mean())\n",
    "\n",
    "data1.family_members = data1.family_members.fillna(data1.family_members.mean())\n",
    "data2.family_members = data2.family_members.fillna(data2.family_members.mean())\n",
    "data3.family_members = data3.family_members.fillna(data3.family_members.mean())"
   ]
  },
  {
   "cell_type": "code",
   "execution_count": 12,
   "id": "eac746c1",
   "metadata": {},
   "outputs": [
    {
     "data": {
      "text/html": [
       "<div>\n",
       "<style scoped>\n",
       "    .dataframe tbody tr th:only-of-type {\n",
       "        vertical-align: middle;\n",
       "    }\n",
       "\n",
       "    .dataframe tbody tr th {\n",
       "        vertical-align: top;\n",
       "    }\n",
       "\n",
       "    .dataframe thead th {\n",
       "        text-align: right;\n",
       "    }\n",
       "</style>\n",
       "<table border=\"1\" class=\"dataframe\">\n",
       "  <thead>\n",
       "    <tr style=\"text-align: right;\">\n",
       "      <th></th>\n",
       "      <th>credit_card_utilization</th>\n",
       "      <th>age</th>\n",
       "      <th>overdue_30_59_days</th>\n",
       "      <th>debt_to_income</th>\n",
       "      <th>monthly_income</th>\n",
       "      <th>credits_loans</th>\n",
       "      <th>overdue__more_than_90_days</th>\n",
       "      <th>mortgage_loans</th>\n",
       "      <th>overdue_60_89_days</th>\n",
       "      <th>family_members</th>\n",
       "      <th>target</th>\n",
       "    </tr>\n",
       "  </thead>\n",
       "  <tbody>\n",
       "    <tr>\n",
       "      <th>2</th>\n",
       "      <td>0.342176</td>\n",
       "      <td>75</td>\n",
       "      <td>1</td>\n",
       "      <td>0.445066</td>\n",
       "      <td>20349.895825</td>\n",
       "      <td>9</td>\n",
       "      <td>0</td>\n",
       "      <td>3</td>\n",
       "      <td>0</td>\n",
       "      <td>0.0</td>\n",
       "      <td>0.0</td>\n",
       "    </tr>\n",
       "    <tr>\n",
       "      <th>6</th>\n",
       "      <td>0.525989</td>\n",
       "      <td>69</td>\n",
       "      <td>2</td>\n",
       "      <td>0.170485</td>\n",
       "      <td>8116.592035</td>\n",
       "      <td>8</td>\n",
       "      <td>0</td>\n",
       "      <td>1</td>\n",
       "      <td>1</td>\n",
       "      <td>0.0</td>\n",
       "      <td>0.0</td>\n",
       "    </tr>\n",
       "    <tr>\n",
       "      <th>7</th>\n",
       "      <td>0.013340</td>\n",
       "      <td>90</td>\n",
       "      <td>0</td>\n",
       "      <td>0.241279</td>\n",
       "      <td>4336.877243</td>\n",
       "      <td>4</td>\n",
       "      <td>0</td>\n",
       "      <td>1</td>\n",
       "      <td>0</td>\n",
       "      <td>0.0</td>\n",
       "      <td>0.0</td>\n",
       "    </tr>\n",
       "    <tr>\n",
       "      <th>9</th>\n",
       "      <td>0.002793</td>\n",
       "      <td>81</td>\n",
       "      <td>1</td>\n",
       "      <td>0.308468</td>\n",
       "      <td>5984.674689</td>\n",
       "      <td>21</td>\n",
       "      <td>0</td>\n",
       "      <td>1</td>\n",
       "      <td>0</td>\n",
       "      <td>1.0</td>\n",
       "      <td>0.0</td>\n",
       "    </tr>\n",
       "    <tr>\n",
       "      <th>10</th>\n",
       "      <td>0.007025</td>\n",
       "      <td>80</td>\n",
       "      <td>0</td>\n",
       "      <td>0.462520</td>\n",
       "      <td>2562.915830</td>\n",
       "      <td>8</td>\n",
       "      <td>0</td>\n",
       "      <td>2</td>\n",
       "      <td>0</td>\n",
       "      <td>0.0</td>\n",
       "      <td>0.0</td>\n",
       "    </tr>\n",
       "    <tr>\n",
       "      <th>...</th>\n",
       "      <td>...</td>\n",
       "      <td>...</td>\n",
       "      <td>...</td>\n",
       "      <td>...</td>\n",
       "      <td>...</td>\n",
       "      <td>...</td>\n",
       "      <td>...</td>\n",
       "      <td>...</td>\n",
       "      <td>...</td>\n",
       "      <td>...</td>\n",
       "      <td>...</td>\n",
       "    </tr>\n",
       "    <tr>\n",
       "      <th>38861</th>\n",
       "      <td>0.032106</td>\n",
       "      <td>40</td>\n",
       "      <td>0</td>\n",
       "      <td>0.001700</td>\n",
       "      <td>5417.571741</td>\n",
       "      <td>10</td>\n",
       "      <td>0</td>\n",
       "      <td>0</td>\n",
       "      <td>0</td>\n",
       "      <td>1.0</td>\n",
       "      <td>NaN</td>\n",
       "    </tr>\n",
       "    <tr>\n",
       "      <th>38865</th>\n",
       "      <td>0.231422</td>\n",
       "      <td>33</td>\n",
       "      <td>0</td>\n",
       "      <td>7769.473515</td>\n",
       "      <td>4845.615644</td>\n",
       "      <td>9</td>\n",
       "      <td>0</td>\n",
       "      <td>4</td>\n",
       "      <td>0</td>\n",
       "      <td>0.0</td>\n",
       "      <td>NaN</td>\n",
       "    </tr>\n",
       "    <tr>\n",
       "      <th>38866</th>\n",
       "      <td>0.989986</td>\n",
       "      <td>38</td>\n",
       "      <td>0</td>\n",
       "      <td>3726.657513</td>\n",
       "      <td>4845.615644</td>\n",
       "      <td>7</td>\n",
       "      <td>0</td>\n",
       "      <td>4</td>\n",
       "      <td>0</td>\n",
       "      <td>0.0</td>\n",
       "      <td>NaN</td>\n",
       "    </tr>\n",
       "    <tr>\n",
       "      <th>38868</th>\n",
       "      <td>0.764756</td>\n",
       "      <td>35</td>\n",
       "      <td>0</td>\n",
       "      <td>0.479643</td>\n",
       "      <td>2393.670242</td>\n",
       "      <td>8</td>\n",
       "      <td>0</td>\n",
       "      <td>1</td>\n",
       "      <td>0</td>\n",
       "      <td>2.0</td>\n",
       "      <td>NaN</td>\n",
       "    </tr>\n",
       "    <tr>\n",
       "      <th>38871</th>\n",
       "      <td>0.731740</td>\n",
       "      <td>39</td>\n",
       "      <td>0</td>\n",
       "      <td>0.251005</td>\n",
       "      <td>3474.894386</td>\n",
       "      <td>5</td>\n",
       "      <td>0</td>\n",
       "      <td>0</td>\n",
       "      <td>0</td>\n",
       "      <td>0.0</td>\n",
       "      <td>NaN</td>\n",
       "    </tr>\n",
       "  </tbody>\n",
       "</table>\n",
       "<p>143976 rows × 11 columns</p>\n",
       "</div>"
      ],
      "text/plain": [
       "       credit_card_utilization  age  overdue_30_59_days  debt_to_income  \\\n",
       "2                     0.342176   75                   1        0.445066   \n",
       "6                     0.525989   69                   2        0.170485   \n",
       "7                     0.013340   90                   0        0.241279   \n",
       "9                     0.002793   81                   1        0.308468   \n",
       "10                    0.007025   80                   0        0.462520   \n",
       "...                        ...  ...                 ...             ...   \n",
       "38861                 0.032106   40                   0        0.001700   \n",
       "38865                 0.231422   33                   0     7769.473515   \n",
       "38866                 0.989986   38                   0     3726.657513   \n",
       "38868                 0.764756   35                   0        0.479643   \n",
       "38871                 0.731740   39                   0        0.251005   \n",
       "\n",
       "       monthly_income  credits_loans  overdue__more_than_90_days  \\\n",
       "2        20349.895825              9                           0   \n",
       "6         8116.592035              8                           0   \n",
       "7         4336.877243              4                           0   \n",
       "9         5984.674689             21                           0   \n",
       "10        2562.915830              8                           0   \n",
       "...               ...            ...                         ...   \n",
       "38861     5417.571741             10                           0   \n",
       "38865     4845.615644              9                           0   \n",
       "38866     4845.615644              7                           0   \n",
       "38868     2393.670242              8                           0   \n",
       "38871     3474.894386              5                           0   \n",
       "\n",
       "       mortgage_loans  overdue_60_89_days  family_members  target  \n",
       "2                   3                   0             0.0     0.0  \n",
       "6                   1                   1             0.0     0.0  \n",
       "7                   1                   0             0.0     0.0  \n",
       "9                   1                   0             1.0     0.0  \n",
       "10                  2                   0             0.0     0.0  \n",
       "...               ...                 ...             ...     ...  \n",
       "38861               0                   0             1.0     NaN  \n",
       "38865               4                   0             0.0     NaN  \n",
       "38866               4                   0             0.0     NaN  \n",
       "38868               1                   0             2.0     NaN  \n",
       "38871               0                   0             0.0     NaN  \n",
       "\n",
       "[143976 rows x 11 columns]"
      ]
     },
     "execution_count": 12,
     "metadata": {},
     "output_type": "execute_result"
    }
   ],
   "source": [
    "data = pd.concat([data1,data2,data3], axis = 0)\n",
    "data"
   ]
  },
  {
   "cell_type": "code",
   "execution_count": 13,
   "id": "0d6bbfd1",
   "metadata": {},
   "outputs": [],
   "source": [
    "#data[data.age > 67].monthly_income = data[data.age > 67].monthly_income.fillna(data[data.age > 67].monthly_income.mean())\n",
    "#data[(data.age < 67) & (data.age > 40)].monthly_income = data[(data.age < 67) & (data.age > 40)].monthly_income.fillna(data[(data.age < 67) & (data.age > 40)].monthly_income.mean())\n",
    "#data[(data.age < 40)].monthly_income = data[(data.age < 40)].monthly_income.fillna(data[(data.age < 40)].monthly_income.mean())\n"
   ]
  },
  {
   "cell_type": "code",
   "execution_count": 14,
   "id": "917f24f1",
   "metadata": {},
   "outputs": [],
   "source": [
    "#data.monthly_income = data.monthly_income.fillna(data.monthly_income.mean())\n",
    "#data.family_members = data.family_members.fillna(data.family_members.mean())"
   ]
  },
  {
   "cell_type": "code",
   "execution_count": 15,
   "id": "8dcba190",
   "metadata": {},
   "outputs": [
    {
     "ename": "AttributeError",
     "evalue": "'DataFrame' object has no attribute 'Test'",
     "output_type": "error",
     "traceback": [
      "\u001b[1;31m---------------------------------------------------------------------------\u001b[0m",
      "\u001b[1;31mAttributeError\u001b[0m                            Traceback (most recent call last)",
      "\u001b[1;32m~\\AppData\\Local\\Temp/ipykernel_4464/2933177730.py\u001b[0m in \u001b[0;36m<module>\u001b[1;34m\u001b[0m\n\u001b[1;32m----> 1\u001b[1;33m \u001b[0mtrain\u001b[0m \u001b[1;33m=\u001b[0m \u001b[0mdata\u001b[0m\u001b[1;33m[\u001b[0m\u001b[0mdata\u001b[0m\u001b[1;33m.\u001b[0m\u001b[0mTest\u001b[0m \u001b[1;33m==\u001b[0m \u001b[1;36m0\u001b[0m\u001b[1;33m]\u001b[0m\u001b[1;33m.\u001b[0m\u001b[0mreset_index\u001b[0m\u001b[1;33m(\u001b[0m\u001b[0mdrop\u001b[0m \u001b[1;33m=\u001b[0m \u001b[1;32mTrue\u001b[0m\u001b[1;33m)\u001b[0m\u001b[1;33m\u001b[0m\u001b[1;33m\u001b[0m\u001b[0m\n\u001b[0m\u001b[0;32m      2\u001b[0m \u001b[0mx_test\u001b[0m \u001b[1;33m=\u001b[0m \u001b[0mdata\u001b[0m\u001b[1;33m[\u001b[0m\u001b[0mdata\u001b[0m\u001b[1;33m.\u001b[0m\u001b[0mTest\u001b[0m \u001b[1;33m==\u001b[0m \u001b[1;36m1\u001b[0m\u001b[1;33m]\u001b[0m\u001b[1;33m.\u001b[0m\u001b[0mreset_index\u001b[0m\u001b[1;33m(\u001b[0m\u001b[0mdrop\u001b[0m \u001b[1;33m=\u001b[0m \u001b[1;32mTrue\u001b[0m\u001b[1;33m)\u001b[0m\u001b[1;33m\u001b[0m\u001b[1;33m\u001b[0m\u001b[0m\n",
      "\u001b[1;32m~\\anaconda3\\lib\\site-packages\\pandas\\core\\generic.py\u001b[0m in \u001b[0;36m__getattr__\u001b[1;34m(self, name)\u001b[0m\n\u001b[0;32m   5485\u001b[0m         ):\n\u001b[0;32m   5486\u001b[0m             \u001b[1;32mreturn\u001b[0m \u001b[0mself\u001b[0m\u001b[1;33m[\u001b[0m\u001b[0mname\u001b[0m\u001b[1;33m]\u001b[0m\u001b[1;33m\u001b[0m\u001b[1;33m\u001b[0m\u001b[0m\n\u001b[1;32m-> 5487\u001b[1;33m         \u001b[1;32mreturn\u001b[0m \u001b[0mobject\u001b[0m\u001b[1;33m.\u001b[0m\u001b[0m__getattribute__\u001b[0m\u001b[1;33m(\u001b[0m\u001b[0mself\u001b[0m\u001b[1;33m,\u001b[0m \u001b[0mname\u001b[0m\u001b[1;33m)\u001b[0m\u001b[1;33m\u001b[0m\u001b[1;33m\u001b[0m\u001b[0m\n\u001b[0m\u001b[0;32m   5488\u001b[0m \u001b[1;33m\u001b[0m\u001b[0m\n\u001b[0;32m   5489\u001b[0m     \u001b[1;32mdef\u001b[0m \u001b[0m__setattr__\u001b[0m\u001b[1;33m(\u001b[0m\u001b[0mself\u001b[0m\u001b[1;33m,\u001b[0m \u001b[0mname\u001b[0m\u001b[1;33m:\u001b[0m \u001b[0mstr\u001b[0m\u001b[1;33m,\u001b[0m \u001b[0mvalue\u001b[0m\u001b[1;33m)\u001b[0m \u001b[1;33m->\u001b[0m \u001b[1;32mNone\u001b[0m\u001b[1;33m:\u001b[0m\u001b[1;33m\u001b[0m\u001b[1;33m\u001b[0m\u001b[0m\n",
      "\u001b[1;31mAttributeError\u001b[0m: 'DataFrame' object has no attribute 'Test'"
     ]
    }
   ],
   "source": [
    "train = data[data.Test == 0].reset_index(drop = True)\n",
    "x_test = data[data.Test == 1].reset_index(drop = True)"
   ]
  },
  {
   "cell_type": "code",
   "execution_count": null,
   "id": "420d58f5",
   "metadata": {},
   "outputs": [],
   "source": [
    "train.drop(['Test'], axis = 1, inplace = True)\n",
    "x_test.drop(['Test'], axis = 1, inplace = True)"
   ]
  },
  {
   "cell_type": "code",
   "execution_count": 16,
   "id": "d94d09fe",
   "metadata": {},
   "outputs": [
    {
     "ename": "NameError",
     "evalue": "name 'train' is not defined",
     "output_type": "error",
     "traceback": [
      "\u001b[1;31m---------------------------------------------------------------------------\u001b[0m",
      "\u001b[1;31mNameError\u001b[0m                                 Traceback (most recent call last)",
      "\u001b[1;32m~\\AppData\\Local\\Temp/ipykernel_4464/616225533.py\u001b[0m in \u001b[0;36m<module>\u001b[1;34m\u001b[0m\n\u001b[1;32m----> 1\u001b[1;33m \u001b[0mx\u001b[0m \u001b[1;33m=\u001b[0m \u001b[0mtrain\u001b[0m\u001b[1;33m.\u001b[0m\u001b[0mcopy\u001b[0m\u001b[1;33m(\u001b[0m\u001b[1;33m)\u001b[0m\u001b[1;33m\u001b[0m\u001b[1;33m\u001b[0m\u001b[0m\n\u001b[0m",
      "\u001b[1;31mNameError\u001b[0m: name 'train' is not defined"
     ]
    }
   ],
   "source": [
    "x = train.copy()\n"
   ]
  },
  {
   "cell_type": "code",
   "execution_count": null,
   "id": "9fa5ecad",
   "metadata": {},
   "outputs": [],
   "source": [
    "train.to_pickle('Downloads/cmf-2022-bank-scoring-case/x.pkl')\n",
    "x_test.to_pickle('Downloads/cmf-2022-bank-scoring-case/test.pkl')\n",
    "y.to_pickle('Downloads/cmf-2022-bank-scoring-case/y.pkl')"
   ]
  },
  {
   "cell_type": "code",
   "execution_count": null,
   "id": "bf5141f8",
   "metadata": {},
   "outputs": [],
   "source": [
    "data.info()"
   ]
  },
  {
   "cell_type": "code",
   "execution_count": null,
   "id": "efa294d0",
   "metadata": {},
   "outputs": [],
   "source": [
    "data"
   ]
  },
  {
   "cell_type": "code",
   "execution_count": null,
   "id": "2405d9ad",
   "metadata": {},
   "outputs": [],
   "source": [
    "from sklearn.preprocessing import StandardScaler\n",
    "scaler = StandardScaler()"
   ]
  },
  {
   "cell_type": "code",
   "execution_count": null,
   "id": "8ab90d07",
   "metadata": {},
   "outputs": [],
   "source": [
    "scaler.fit(x)"
   ]
  },
  {
   "cell_type": "code",
   "execution_count": null,
   "id": "5eecad08",
   "metadata": {},
   "outputs": [],
   "source": [
    "scaled_features = scaler.transform(x)"
   ]
  },
  {
   "cell_type": "code",
   "execution_count": null,
   "id": "1ad1d7a9",
   "metadata": {},
   "outputs": [],
   "source": [
    "scaled_data = pd.DataFrame(scaled_features, columns = x.columns)"
   ]
  },
  {
   "cell_type": "code",
   "execution_count": null,
   "id": "7aa1b768",
   "metadata": {},
   "outputs": [],
   "source": [
    "x = scaled_data"
   ]
  },
  {
   "cell_type": "code",
   "execution_count": null,
   "id": "144a8375",
   "metadata": {},
   "outputs": [],
   "source": [
    "test_data = scaler.transform(x_test)"
   ]
  },
  {
   "cell_type": "code",
   "execution_count": null,
   "id": "6d2c5863",
   "metadata": {},
   "outputs": [],
   "source": [
    "x_training_data, x_test_data, y_training_data, y_test_data = train_test_split(x, y, test_size = 0.25)"
   ]
  },
  {
   "cell_type": "code",
   "execution_count": null,
   "id": "d6c243c9",
   "metadata": {},
   "outputs": [],
   "source": [
    "clf = tree.DecisionTreeClassifier()\n",
    "clf = clf.fit(x, y)"
   ]
  },
  {
   "cell_type": "code",
   "execution_count": null,
   "id": "b0a664d9",
   "metadata": {},
   "outputs": [],
   "source": [
    "pred = clf.predict(x_test_data)\n",
    "print(classification_report(y_test_data, pred))"
   ]
  },
  {
   "cell_type": "code",
   "execution_count": null,
   "id": "5bf724e5",
   "metadata": {},
   "outputs": [],
   "source": [
    "y_pred = clf.predict_proba(test_data)"
   ]
  },
  {
   "cell_type": "code",
   "execution_count": null,
   "id": "3afd2025",
   "metadata": {},
   "outputs": [],
   "source": [
    "df = pd.DataFrame()\n",
    "df['index'] = indexes_test\n",
    "df['target'] = y_pred[:,1]\n",
    "df"
   ]
  },
  {
   "cell_type": "code",
   "execution_count": null,
   "id": "41fe3b59",
   "metadata": {},
   "outputs": [],
   "source": [
    "df.to_csv('Downloads/Data/des.csv', index = False)"
   ]
  },
  {
   "cell_type": "code",
   "execution_count": null,
   "id": "d4dcd4b4",
   "metadata": {},
   "outputs": [],
   "source": []
  }
 ],
 "metadata": {
  "kernelspec": {
   "display_name": "Python 3 (ipykernel)",
   "language": "python",
   "name": "python3"
  },
  "language_info": {
   "codemirror_mode": {
    "name": "ipython",
    "version": 3
   },
   "file_extension": ".py",
   "mimetype": "text/x-python",
   "name": "python",
   "nbconvert_exporter": "python",
   "pygments_lexer": "ipython3",
   "version": "3.9.7"
  }
 },
 "nbformat": 4,
 "nbformat_minor": 5
}
