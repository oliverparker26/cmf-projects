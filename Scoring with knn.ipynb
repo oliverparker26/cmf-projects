{
 "cells": [
  {
   "cell_type": "code",
   "execution_count": 1,
   "id": "96c582d0",
   "metadata": {},
   "outputs": [],
   "source": [
    "import numpy as np\n",
    "import pandas as pd\n",
    "import warnings\n",
    "warnings.filterwarnings(\"ignore\")\n",
    "from matplotlib import pyplot as plt\n",
    "from sklearn.model_selection import train_test_split\n",
    "from sklearn.neighbors import KNeighborsRegressor \n",
    "from sklearn.neighbors import KNeighborsClassifier\n",
    "from sklearn.metrics import classification_report\n",
    "from sklearn.metrics import confusion_matrix\n",
    "from sklearn.metrics import accuracy_score"
   ]
  },
  {
   "cell_type": "code",
   "execution_count": 2,
   "id": "fca378fb",
   "metadata": {},
   "outputs": [],
   "source": [
    "x_train = pd.read_csv('Downloads\\cmf-2022-bank-scoring-case\\X_train.csv')\n",
    "x_test = pd.read_csv('Downloads\\cmf-2022-bank-scoring-case\\X_test.csv')\n",
    "y_sample = pd.read_csv('Downloads\\cmf-2022-bank-scoring-case\\y_test_sample.csv')\n",
    "y_train = pd.read_csv('Downloads\\cmf-2022-bank-scoring-case\\y_train.csv')"
   ]
  },
  {
   "cell_type": "code",
   "execution_count": 3,
   "id": "1ae5e083",
   "metadata": {},
   "outputs": [],
   "source": [
    "indexes_test = x_test['index']\n",
    "x_test.drop(['index'], axis = 1, inplace = True)"
   ]
  },
  {
   "cell_type": "code",
   "execution_count": 4,
   "id": "6fc6d15a",
   "metadata": {},
   "outputs": [],
   "source": [
    "x_train['target'] = y_train"
   ]
  },
  {
   "cell_type": "code",
   "execution_count": 5,
   "id": "dabbd123",
   "metadata": {},
   "outputs": [],
   "source": [
    "x_train.drop(x_train[x_train.age < 18].index, inplace = True)\n",
    "x_train.drop(x_train[x_train.monthly_income > 1000000].index, inplace = True)"
   ]
  },
  {
   "cell_type": "code",
   "execution_count": 6,
   "id": "f8d8bf0c",
   "metadata": {},
   "outputs": [],
   "source": [
    "y = x_train.target\n",
    "x_train.drop(['target'], axis = 1, inplace = True)"
   ]
  },
  {
   "cell_type": "code",
   "execution_count": 7,
   "id": "549a3039",
   "metadata": {},
   "outputs": [],
   "source": [
    "x_train['Test'] = False\n",
    "x_test['Test'] = True"
   ]
  },
  {
   "cell_type": "code",
   "execution_count": 8,
   "id": "5779f7a9",
   "metadata": {},
   "outputs": [],
   "source": [
    "data = pd.concat([x_train, x_test])"
   ]
  },
  {
   "cell_type": "code",
   "execution_count": 9,
   "id": "917f24f1",
   "metadata": {},
   "outputs": [],
   "source": [
    "data.monthly_income = data.monthly_income.fillna(data.monthly_income.mean())\n",
    "data.family_members = data.family_members.fillna(data.family_members.mean())"
   ]
  },
  {
   "cell_type": "code",
   "execution_count": 10,
   "id": "8dcba190",
   "metadata": {},
   "outputs": [],
   "source": [
    "train = data[data.Test == 0].reset_index(drop = True)\n",
    "x_test = data[data.Test == 1].reset_index(drop = True)"
   ]
  },
  {
   "cell_type": "code",
   "execution_count": 11,
   "id": "420d58f5",
   "metadata": {},
   "outputs": [],
   "source": [
    "train.drop(['Test'], axis = 1, inplace = True)\n",
    "x_test.drop(['Test'], axis = 1, inplace = True)"
   ]
  },
  {
   "cell_type": "code",
   "execution_count": 12,
   "id": "d94d09fe",
   "metadata": {},
   "outputs": [],
   "source": [
    "x = train.copy()"
   ]
  },
  {
   "cell_type": "code",
   "execution_count": 13,
   "id": "2405d9ad",
   "metadata": {},
   "outputs": [],
   "source": [
    "from sklearn.preprocessing import StandardScaler\n",
    "scaler = StandardScaler()"
   ]
  },
  {
   "cell_type": "code",
   "execution_count": 14,
   "id": "8ab90d07",
   "metadata": {},
   "outputs": [
    {
     "data": {
      "text/plain": [
       "StandardScaler()"
      ]
     },
     "execution_count": 14,
     "metadata": {},
     "output_type": "execute_result"
    }
   ],
   "source": [
    "scaler.fit(x)"
   ]
  },
  {
   "cell_type": "code",
   "execution_count": 15,
   "id": "5eecad08",
   "metadata": {},
   "outputs": [],
   "source": [
    "scaled_features = scaler.transform(x)"
   ]
  },
  {
   "cell_type": "code",
   "execution_count": 16,
   "id": "1ad1d7a9",
   "metadata": {},
   "outputs": [],
   "source": [
    "scaled_data = pd.DataFrame(scaled_features, columns = x.columns)"
   ]
  },
  {
   "cell_type": "code",
   "execution_count": 17,
   "id": "7aa1b768",
   "metadata": {},
   "outputs": [],
   "source": [
    "x = scaled_data"
   ]
  },
  {
   "cell_type": "code",
   "execution_count": 18,
   "id": "144a8375",
   "metadata": {},
   "outputs": [],
   "source": [
    "test_data = scaler.transform(x_test)"
   ]
  },
  {
   "cell_type": "code",
   "execution_count": 19,
   "id": "6d2c5863",
   "metadata": {},
   "outputs": [],
   "source": [
    "x_training_data, x_test_data, y_training_data, y_test_data = train_test_split(x, y, test_size = 0.25)"
   ]
  },
  {
   "cell_type": "code",
   "execution_count": 20,
   "id": "2e3e9c08",
   "metadata": {},
   "outputs": [
    {
     "name": "stdout",
     "output_type": "stream",
     "text": [
      "              precision    recall  f1-score   support\n",
      "\n",
      "           0       0.94      0.96      0.95     24493\n",
      "           1       0.25      0.20      0.22      1784\n",
      "\n",
      "    accuracy                           0.90     26277\n",
      "   macro avg       0.59      0.58      0.58     26277\n",
      "weighted avg       0.90      0.90      0.90     26277\n",
      "\n"
     ]
    }
   ],
   "source": [
    "model = KNeighborsClassifier(n_neighbors = 1)\n",
    "model.fit(x_training_data, y_training_data)\n",
    "predictions = model.predict(x_test_data)\n",
    "print(classification_report(y_test_data, predictions))"
   ]
  },
  {
   "cell_type": "code",
   "execution_count": 21,
   "id": "7110845e",
   "metadata": {},
   "outputs": [],
   "source": [
    "y_pred = model.predict_proba(test_data)"
   ]
  },
  {
   "cell_type": "code",
   "execution_count": 22,
   "id": "63789c36",
   "metadata": {},
   "outputs": [
    {
     "data": {
      "text/html": [
       "<div>\n",
       "<style scoped>\n",
       "    .dataframe tbody tr th:only-of-type {\n",
       "        vertical-align: middle;\n",
       "    }\n",
       "\n",
       "    .dataframe tbody tr th {\n",
       "        vertical-align: top;\n",
       "    }\n",
       "\n",
       "    .dataframe thead th {\n",
       "        text-align: right;\n",
       "    }\n",
       "</style>\n",
       "<table border=\"1\" class=\"dataframe\">\n",
       "  <thead>\n",
       "    <tr style=\"text-align: right;\">\n",
       "      <th></th>\n",
       "      <th>index</th>\n",
       "      <th>target</th>\n",
       "    </tr>\n",
       "  </thead>\n",
       "  <tbody>\n",
       "    <tr>\n",
       "      <th>0</th>\n",
       "      <td>143522</td>\n",
       "      <td>0.0</td>\n",
       "    </tr>\n",
       "    <tr>\n",
       "      <th>1</th>\n",
       "      <td>116747</td>\n",
       "      <td>0.0</td>\n",
       "    </tr>\n",
       "    <tr>\n",
       "      <th>2</th>\n",
       "      <td>66075</td>\n",
       "      <td>0.0</td>\n",
       "    </tr>\n",
       "    <tr>\n",
       "      <th>3</th>\n",
       "      <td>133292</td>\n",
       "      <td>0.0</td>\n",
       "    </tr>\n",
       "    <tr>\n",
       "      <th>4</th>\n",
       "      <td>83134</td>\n",
       "      <td>0.0</td>\n",
       "    </tr>\n",
       "    <tr>\n",
       "      <th>...</th>\n",
       "      <td>...</td>\n",
       "      <td>...</td>\n",
       "    </tr>\n",
       "    <tr>\n",
       "      <th>38871</th>\n",
       "      <td>44475</td>\n",
       "      <td>0.0</td>\n",
       "    </tr>\n",
       "    <tr>\n",
       "      <th>38872</th>\n",
       "      <td>103189</td>\n",
       "      <td>0.0</td>\n",
       "    </tr>\n",
       "    <tr>\n",
       "      <th>38873</th>\n",
       "      <td>48732</td>\n",
       "      <td>0.0</td>\n",
       "    </tr>\n",
       "    <tr>\n",
       "      <th>38874</th>\n",
       "      <td>135410</td>\n",
       "      <td>0.0</td>\n",
       "    </tr>\n",
       "    <tr>\n",
       "      <th>38875</th>\n",
       "      <td>73457</td>\n",
       "      <td>0.0</td>\n",
       "    </tr>\n",
       "  </tbody>\n",
       "</table>\n",
       "<p>38876 rows × 2 columns</p>\n",
       "</div>"
      ],
      "text/plain": [
       "        index  target\n",
       "0      143522     0.0\n",
       "1      116747     0.0\n",
       "2       66075     0.0\n",
       "3      133292     0.0\n",
       "4       83134     0.0\n",
       "...       ...     ...\n",
       "38871   44475     0.0\n",
       "38872  103189     0.0\n",
       "38873   48732     0.0\n",
       "38874  135410     0.0\n",
       "38875   73457     0.0\n",
       "\n",
       "[38876 rows x 2 columns]"
      ]
     },
     "execution_count": 22,
     "metadata": {},
     "output_type": "execute_result"
    }
   ],
   "source": [
    "answers_l = pd.DataFrame()\n",
    "answers_l['index'] = indexes_test\n",
    "answers_l['target'] = y_pred[:,1]\n",
    "answers_l"
   ]
  },
  {
   "cell_type": "code",
   "execution_count": 23,
   "id": "d6c243c9",
   "metadata": {},
   "outputs": [],
   "source": [
    "answers_l.to_csv('Downloads/Data/knn.csv', index = False)"
   ]
  },
  {
   "cell_type": "code",
   "execution_count": 24,
   "id": "af8fd10a",
   "metadata": {},
   "outputs": [
    {
     "data": {
      "text/html": [
       "<div>\n",
       "<style scoped>\n",
       "    .dataframe tbody tr th:only-of-type {\n",
       "        vertical-align: middle;\n",
       "    }\n",
       "\n",
       "    .dataframe tbody tr th {\n",
       "        vertical-align: top;\n",
       "    }\n",
       "\n",
       "    .dataframe thead th {\n",
       "        text-align: right;\n",
       "    }\n",
       "</style>\n",
       "<table border=\"1\" class=\"dataframe\">\n",
       "  <thead>\n",
       "    <tr style=\"text-align: right;\">\n",
       "      <th></th>\n",
       "      <th>credit_card_utilization</th>\n",
       "      <th>age</th>\n",
       "      <th>overdue_30_59_days</th>\n",
       "      <th>debt_to_income</th>\n",
       "      <th>monthly_income</th>\n",
       "      <th>credits_loans</th>\n",
       "      <th>overdue__more_than_90_days</th>\n",
       "      <th>mortgage_loans</th>\n",
       "      <th>overdue_60_89_days</th>\n",
       "      <th>family_members</th>\n",
       "      <th>Test</th>\n",
       "    </tr>\n",
       "  </thead>\n",
       "  <tbody>\n",
       "    <tr>\n",
       "      <th>0</th>\n",
       "      <td>0.000000</td>\n",
       "      <td>56</td>\n",
       "      <td>0</td>\n",
       "      <td>0.504328</td>\n",
       "      <td>6823.894458</td>\n",
       "      <td>9</td>\n",
       "      <td>0</td>\n",
       "      <td>1</td>\n",
       "      <td>0</td>\n",
       "      <td>5.0</td>\n",
       "      <td>False</td>\n",
       "    </tr>\n",
       "    <tr>\n",
       "      <th>1</th>\n",
       "      <td>0.170659</td>\n",
       "      <td>45</td>\n",
       "      <td>1</td>\n",
       "      <td>2.405860</td>\n",
       "      <td>356.580765</td>\n",
       "      <td>5</td>\n",
       "      <td>0</td>\n",
       "      <td>0</td>\n",
       "      <td>0</td>\n",
       "      <td>0.0</td>\n",
       "      <td>False</td>\n",
       "    </tr>\n",
       "    <tr>\n",
       "      <th>2</th>\n",
       "      <td>0.342176</td>\n",
       "      <td>75</td>\n",
       "      <td>1</td>\n",
       "      <td>0.445066</td>\n",
       "      <td>20349.895825</td>\n",
       "      <td>9</td>\n",
       "      <td>0</td>\n",
       "      <td>3</td>\n",
       "      <td>0</td>\n",
       "      <td>0.0</td>\n",
       "      <td>False</td>\n",
       "    </tr>\n",
       "    <tr>\n",
       "      <th>3</th>\n",
       "      <td>0.046219</td>\n",
       "      <td>50</td>\n",
       "      <td>0</td>\n",
       "      <td>0.814508</td>\n",
       "      <td>2894.368968</td>\n",
       "      <td>12</td>\n",
       "      <td>0</td>\n",
       "      <td>1</td>\n",
       "      <td>0</td>\n",
       "      <td>3.0</td>\n",
       "      <td>False</td>\n",
       "    </tr>\n",
       "    <tr>\n",
       "      <th>4</th>\n",
       "      <td>0.679556</td>\n",
       "      <td>58</td>\n",
       "      <td>0</td>\n",
       "      <td>0.390311</td>\n",
       "      <td>24833.227614</td>\n",
       "      <td>15</td>\n",
       "      <td>0</td>\n",
       "      <td>4</td>\n",
       "      <td>0</td>\n",
       "      <td>2.0</td>\n",
       "      <td>False</td>\n",
       "    </tr>\n",
       "    <tr>\n",
       "      <th>...</th>\n",
       "      <td>...</td>\n",
       "      <td>...</td>\n",
       "      <td>...</td>\n",
       "      <td>...</td>\n",
       "      <td>...</td>\n",
       "      <td>...</td>\n",
       "      <td>...</td>\n",
       "      <td>...</td>\n",
       "      <td>...</td>\n",
       "      <td>...</td>\n",
       "      <td>...</td>\n",
       "    </tr>\n",
       "    <tr>\n",
       "      <th>38871</th>\n",
       "      <td>0.731740</td>\n",
       "      <td>39</td>\n",
       "      <td>0</td>\n",
       "      <td>0.251005</td>\n",
       "      <td>3474.894386</td>\n",
       "      <td>5</td>\n",
       "      <td>0</td>\n",
       "      <td>0</td>\n",
       "      <td>0</td>\n",
       "      <td>0.0</td>\n",
       "      <td>True</td>\n",
       "    </tr>\n",
       "    <tr>\n",
       "      <th>38872</th>\n",
       "      <td>0.010959</td>\n",
       "      <td>70</td>\n",
       "      <td>0</td>\n",
       "      <td>0.152539</td>\n",
       "      <td>4170.426464</td>\n",
       "      <td>14</td>\n",
       "      <td>0</td>\n",
       "      <td>1</td>\n",
       "      <td>0</td>\n",
       "      <td>0.0</td>\n",
       "      <td>True</td>\n",
       "    </tr>\n",
       "    <tr>\n",
       "      <th>38873</th>\n",
       "      <td>0.084612</td>\n",
       "      <td>52</td>\n",
       "      <td>0</td>\n",
       "      <td>5288.053772</td>\n",
       "      <td>6648.526102</td>\n",
       "      <td>15</td>\n",
       "      <td>0</td>\n",
       "      <td>2</td>\n",
       "      <td>0</td>\n",
       "      <td>0.0</td>\n",
       "      <td>True</td>\n",
       "    </tr>\n",
       "    <tr>\n",
       "      <th>38874</th>\n",
       "      <td>0.741717</td>\n",
       "      <td>51</td>\n",
       "      <td>0</td>\n",
       "      <td>0.378356</td>\n",
       "      <td>5441.458787</td>\n",
       "      <td>9</td>\n",
       "      <td>0</td>\n",
       "      <td>2</td>\n",
       "      <td>0</td>\n",
       "      <td>0.0</td>\n",
       "      <td>True</td>\n",
       "    </tr>\n",
       "    <tr>\n",
       "      <th>38875</th>\n",
       "      <td>0.014229</td>\n",
       "      <td>65</td>\n",
       "      <td>0</td>\n",
       "      <td>0.002321</td>\n",
       "      <td>199556.312925</td>\n",
       "      <td>3</td>\n",
       "      <td>0</td>\n",
       "      <td>1</td>\n",
       "      <td>0</td>\n",
       "      <td>0.0</td>\n",
       "      <td>True</td>\n",
       "    </tr>\n",
       "  </tbody>\n",
       "</table>\n",
       "<p>143982 rows × 11 columns</p>\n",
       "</div>"
      ],
      "text/plain": [
       "       credit_card_utilization  age  overdue_30_59_days  debt_to_income  \\\n",
       "0                     0.000000   56                   0        0.504328   \n",
       "1                     0.170659   45                   1        2.405860   \n",
       "2                     0.342176   75                   1        0.445066   \n",
       "3                     0.046219   50                   0        0.814508   \n",
       "4                     0.679556   58                   0        0.390311   \n",
       "...                        ...  ...                 ...             ...   \n",
       "38871                 0.731740   39                   0        0.251005   \n",
       "38872                 0.010959   70                   0        0.152539   \n",
       "38873                 0.084612   52                   0     5288.053772   \n",
       "38874                 0.741717   51                   0        0.378356   \n",
       "38875                 0.014229   65                   0        0.002321   \n",
       "\n",
       "       monthly_income  credits_loans  overdue__more_than_90_days  \\\n",
       "0         6823.894458              9                           0   \n",
       "1          356.580765              5                           0   \n",
       "2        20349.895825              9                           0   \n",
       "3         2894.368968             12                           0   \n",
       "4        24833.227614             15                           0   \n",
       "...               ...            ...                         ...   \n",
       "38871     3474.894386              5                           0   \n",
       "38872     4170.426464             14                           0   \n",
       "38873     6648.526102             15                           0   \n",
       "38874     5441.458787              9                           0   \n",
       "38875   199556.312925              3                           0   \n",
       "\n",
       "       mortgage_loans  overdue_60_89_days  family_members   Test  \n",
       "0                   1                   0             5.0  False  \n",
       "1                   0                   0             0.0  False  \n",
       "2                   3                   0             0.0  False  \n",
       "3                   1                   0             3.0  False  \n",
       "4                   4                   0             2.0  False  \n",
       "...               ...                 ...             ...    ...  \n",
       "38871               0                   0             0.0   True  \n",
       "38872               1                   0             0.0   True  \n",
       "38873               2                   0             0.0   True  \n",
       "38874               2                   0             0.0   True  \n",
       "38875               1                   0             0.0   True  \n",
       "\n",
       "[143982 rows x 11 columns]"
      ]
     },
     "execution_count": 24,
     "metadata": {},
     "output_type": "execute_result"
    }
   ],
   "source": [
    "data"
   ]
  },
  {
   "cell_type": "code",
   "execution_count": null,
   "id": "8238515b",
   "metadata": {},
   "outputs": [],
   "source": []
  }
 ],
 "metadata": {
  "kernelspec": {
   "display_name": "Python 3 (ipykernel)",
   "language": "python",
   "name": "python3"
  },
  "language_info": {
   "codemirror_mode": {
    "name": "ipython",
    "version": 3
   },
   "file_extension": ".py",
   "mimetype": "text/x-python",
   "name": "python",
   "nbconvert_exporter": "python",
   "pygments_lexer": "ipython3",
   "version": "3.9.7"
  }
 },
 "nbformat": 4,
 "nbformat_minor": 5
}
