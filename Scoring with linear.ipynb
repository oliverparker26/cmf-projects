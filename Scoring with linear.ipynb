{
 "cells": [
  {
   "cell_type": "code",
   "execution_count": 22,
   "id": "236c6a90",
   "metadata": {},
   "outputs": [],
   "source": [
    "import numpy as np\n",
    "import pandas as pd\n",
    "import warnings\n",
    "warnings.filterwarnings(\"ignore\")\n",
    "from sklearn.linear_model import LinearRegression\n",
    "from sklearn.model_selection import train_test_split \n",
    "from sklearn.metrics import classification_report\n",
    "from sklearn.metrics import mean_absolute_error\n",
    "from sklearn.metrics import roc_auc_score"
   ]
  },
  {
   "cell_type": "code",
   "execution_count": 2,
   "id": "25864dcd",
   "metadata": {},
   "outputs": [],
   "source": [
    "x_train = pd.read_csv('Downloads\\cmf-2022-bank-scoring-case\\X_train.csv')\n",
    "x_test = pd.read_csv('Downloads\\cmf-2022-bank-scoring-case\\X_test.csv')\n",
    "y_sample = pd.read_csv('Downloads\\cmf-2022-bank-scoring-case\\y_test_sample.csv')\n",
    "y_train = pd.read_csv('Downloads\\cmf-2022-bank-scoring-case\\y_train.csv')"
   ]
  },
  {
   "cell_type": "code",
   "execution_count": 3,
   "id": "ba8685be",
   "metadata": {},
   "outputs": [],
   "source": [
    "indexes_test = x_test['index']\n",
    "x_test.drop(['index'], axis = 1, inplace = True)"
   ]
  },
  {
   "cell_type": "code",
   "execution_count": 4,
   "id": "2387e2d4",
   "metadata": {},
   "outputs": [],
   "source": [
    "x_train['target'] = y_train"
   ]
  },
  {
   "cell_type": "code",
   "execution_count": 5,
   "id": "ec0d0b48",
   "metadata": {},
   "outputs": [],
   "source": [
    "x_train.drop(x_train[x_train.age < 18].index, inplace = True)\n",
    "x_train.drop(x_train[x_train.monthly_income > 1000000].index, inplace = True)"
   ]
  },
  {
   "cell_type": "code",
   "execution_count": 6,
   "id": "e91dc464",
   "metadata": {},
   "outputs": [],
   "source": [
    "y = x_train.target\n",
    "x_train.drop(['target'], axis = 1, inplace = True)"
   ]
  },
  {
   "cell_type": "code",
   "execution_count": 7,
   "id": "1002c3ba",
   "metadata": {},
   "outputs": [],
   "source": [
    "x_train['Test'] = False\n",
    "x_test['Test'] = True"
   ]
  },
  {
   "cell_type": "code",
   "execution_count": 8,
   "id": "cdec8853",
   "metadata": {},
   "outputs": [],
   "source": [
    "data = pd.concat([x_train, x_test])"
   ]
  },
  {
   "cell_type": "code",
   "execution_count": 9,
   "id": "65f5776c",
   "metadata": {},
   "outputs": [],
   "source": [
    "data.monthly_income = data.monthly_income.fillna(data.monthly_income.mean())\n",
    "data.family_members = data.family_members.fillna(data.family_members.mean())"
   ]
  },
  {
   "cell_type": "code",
   "execution_count": 10,
   "id": "4d72dd32",
   "metadata": {},
   "outputs": [],
   "source": [
    "train = data[data.Test == 0].reset_index(drop = True)\n",
    "x_test = data[data.Test == 1].reset_index(drop = True)"
   ]
  },
  {
   "cell_type": "code",
   "execution_count": 11,
   "id": "a4b02aaf",
   "metadata": {},
   "outputs": [],
   "source": [
    "train.drop(['Test'], axis = 1, inplace = True)\n",
    "x_test.drop(['Test'], axis = 1, inplace = True)"
   ]
  },
  {
   "cell_type": "code",
   "execution_count": 12,
   "id": "ff5ab8e5",
   "metadata": {},
   "outputs": [],
   "source": [
    "x = train.copy()"
   ]
  },
  {
   "cell_type": "code",
   "execution_count": 13,
   "id": "8e3b501b",
   "metadata": {},
   "outputs": [],
   "source": [
    "from sklearn.preprocessing import StandardScaler\n",
    "scaler = StandardScaler()\n",
    "scaler.fit(x)\n",
    "scaled_features = scaler.transform(x)\n",
    "scaled_data = pd.DataFrame(scaled_features, columns = x.columns)\n",
    "x = scaled_data\n",
    "test_data = scaler.transform(x_test)"
   ]
  },
  {
   "cell_type": "code",
   "execution_count": 14,
   "id": "d1045705",
   "metadata": {},
   "outputs": [],
   "source": [
    "X_train, X_test, y_train, y_test = train_test_split(x, y, test_size=0.2, random_state=0)"
   ]
  },
  {
   "cell_type": "code",
   "execution_count": 15,
   "id": "e1ef4590",
   "metadata": {},
   "outputs": [],
   "source": [
    "mod = LinearRegression()"
   ]
  },
  {
   "cell_type": "code",
   "execution_count": 16,
   "id": "f3e62a3b",
   "metadata": {},
   "outputs": [
    {
     "data": {
      "text/plain": [
       "LinearRegression()"
      ]
     },
     "execution_count": 16,
     "metadata": {},
     "output_type": "execute_result"
    }
   ],
   "source": [
    "mod.fit(X_train, y_train)"
   ]
  },
  {
   "cell_type": "code",
   "execution_count": 17,
   "id": "4b9487ad",
   "metadata": {},
   "outputs": [
    {
     "data": {
      "text/plain": [
       "array([ 0.00309467,  0.02745993, -0.02157782, ...,  0.04828313,\n",
       "        0.08411846, -0.00637462])"
      ]
     },
     "execution_count": 17,
     "metadata": {},
     "output_type": "execute_result"
    }
   ],
   "source": [
    "y_pre=mod.predict(X_test)\n",
    "y_pre"
   ]
  },
  {
   "cell_type": "code",
   "execution_count": 18,
   "id": "a646323e",
   "metadata": {},
   "outputs": [
    {
     "data": {
      "text/plain": [
       "0.11919587218233736"
      ]
     },
     "execution_count": 18,
     "metadata": {},
     "output_type": "execute_result"
    }
   ],
   "source": [
    "mean_absolute_error(y_test, y_pre)"
   ]
  },
  {
   "cell_type": "code",
   "execution_count": 19,
   "id": "5cf2273c",
   "metadata": {},
   "outputs": [],
   "source": [
    "y_pred = mod.predict(test_data)"
   ]
  },
  {
   "cell_type": "code",
   "execution_count": 20,
   "id": "c7bcaf53",
   "metadata": {},
   "outputs": [
    {
     "data": {
      "text/html": [
       "<div>\n",
       "<style scoped>\n",
       "    .dataframe tbody tr th:only-of-type {\n",
       "        vertical-align: middle;\n",
       "    }\n",
       "\n",
       "    .dataframe tbody tr th {\n",
       "        vertical-align: top;\n",
       "    }\n",
       "\n",
       "    .dataframe thead th {\n",
       "        text-align: right;\n",
       "    }\n",
       "</style>\n",
       "<table border=\"1\" class=\"dataframe\">\n",
       "  <thead>\n",
       "    <tr style=\"text-align: right;\">\n",
       "      <th></th>\n",
       "      <th>index</th>\n",
       "      <th>target</th>\n",
       "    </tr>\n",
       "  </thead>\n",
       "  <tbody>\n",
       "    <tr>\n",
       "      <th>0</th>\n",
       "      <td>143522</td>\n",
       "      <td>0.035293</td>\n",
       "    </tr>\n",
       "    <tr>\n",
       "      <th>1</th>\n",
       "      <td>116747</td>\n",
       "      <td>0.010592</td>\n",
       "    </tr>\n",
       "    <tr>\n",
       "      <th>2</th>\n",
       "      <td>66075</td>\n",
       "      <td>0.134582</td>\n",
       "    </tr>\n",
       "    <tr>\n",
       "      <th>3</th>\n",
       "      <td>133292</td>\n",
       "      <td>0.092711</td>\n",
       "    </tr>\n",
       "    <tr>\n",
       "      <th>4</th>\n",
       "      <td>83134</td>\n",
       "      <td>0.075865</td>\n",
       "    </tr>\n",
       "    <tr>\n",
       "      <th>...</th>\n",
       "      <td>...</td>\n",
       "      <td>...</td>\n",
       "    </tr>\n",
       "    <tr>\n",
       "      <th>38871</th>\n",
       "      <td>44475</td>\n",
       "      <td>0.076203</td>\n",
       "    </tr>\n",
       "    <tr>\n",
       "      <th>38872</th>\n",
       "      <td>103189</td>\n",
       "      <td>0.022889</td>\n",
       "    </tr>\n",
       "    <tr>\n",
       "      <th>38873</th>\n",
       "      <td>48732</td>\n",
       "      <td>0.043589</td>\n",
       "    </tr>\n",
       "    <tr>\n",
       "      <th>38874</th>\n",
       "      <td>135410</td>\n",
       "      <td>0.056633</td>\n",
       "    </tr>\n",
       "    <tr>\n",
       "      <th>38875</th>\n",
       "      <td>73457</td>\n",
       "      <td>-0.086100</td>\n",
       "    </tr>\n",
       "  </tbody>\n",
       "</table>\n",
       "<p>38876 rows × 2 columns</p>\n",
       "</div>"
      ],
      "text/plain": [
       "        index    target\n",
       "0      143522  0.035293\n",
       "1      116747  0.010592\n",
       "2       66075  0.134582\n",
       "3      133292  0.092711\n",
       "4       83134  0.075865\n",
       "...       ...       ...\n",
       "38871   44475  0.076203\n",
       "38872  103189  0.022889\n",
       "38873   48732  0.043589\n",
       "38874  135410  0.056633\n",
       "38875   73457 -0.086100\n",
       "\n",
       "[38876 rows x 2 columns]"
      ]
     },
     "execution_count": 20,
     "metadata": {},
     "output_type": "execute_result"
    }
   ],
   "source": [
    "df = pd.DataFrame()\n",
    "df['index'] = indexes_test\n",
    "df['target'] = y_pred\n",
    "df"
   ]
  },
  {
   "cell_type": "code",
   "execution_count": 21,
   "id": "8310411a",
   "metadata": {},
   "outputs": [],
   "source": [
    "#df.to_csv('Downloads/Data/lin.csv', index = False)"
   ]
  },
  {
   "cell_type": "code",
   "execution_count": 26,
   "id": "1f4731b3",
   "metadata": {},
   "outputs": [
    {
     "data": {
      "text/plain": [
       "0.6790901879696939"
      ]
     },
     "execution_count": 26,
     "metadata": {},
     "output_type": "execute_result"
    }
   ],
   "source": [
    "roc_auc_score(y_test, mod.predict(X_test))"
   ]
  },
  {
   "cell_type": "code",
   "execution_count": null,
   "id": "1f1aabc8",
   "metadata": {},
   "outputs": [],
   "source": []
  }
 ],
 "metadata": {
  "kernelspec": {
   "display_name": "Python 3 (ipykernel)",
   "language": "python",
   "name": "python3"
  },
  "language_info": {
   "codemirror_mode": {
    "name": "ipython",
    "version": 3
   },
   "file_extension": ".py",
   "mimetype": "text/x-python",
   "name": "python",
   "nbconvert_exporter": "python",
   "pygments_lexer": "ipython3",
   "version": "3.9.7"
  }
 },
 "nbformat": 4,
 "nbformat_minor": 5
}
